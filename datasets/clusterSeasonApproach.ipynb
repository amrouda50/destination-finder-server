{
 "cells": [
  {
   "cell_type": "markdown",
   "metadata": {},
   "source": [
    "# Clustering algorithm for extracting seasons\n",
    "\n",
    "In this notebook we will generate `isPeakSeason` field for each month inside the country. We are using the following **heuristics**\n",
    "1. Months can be split into chunks of \"seasons\", which are just clusters with common centroids. \n",
    "2. Currently for defining the centroids we just use `visitorIndex` information. We assume that the `peakSeason` is the one which gathers most visitors (later this concept could be extended to more dimensions)  \n",
    "3. The chunk with biggest centroid score will contain `peakSeason` months.\n",
    "4. We currently assume that there are 4 seasons according to their popularity (hyperparameter)"
   ]
  },
  {
   "cell_type": "code",
   "execution_count": 5,
   "metadata": {},
   "outputs": [],
   "source": [
    "import numpy as np\n",
    "import pandas as pd \n",
    "from scipy.cluster.vq import vq, kmeans, whiten"
   ]
  },
  {
   "cell_type": "code",
   "execution_count": 7,
   "metadata": {},
   "outputs": [
    {
     "data": {
      "text/html": [
       "<div>\n",
       "<style scoped>\n",
       "    .dataframe tbody tr th:only-of-type {\n",
       "        vertical-align: middle;\n",
       "    }\n",
       "\n",
       "    .dataframe tbody tr th {\n",
       "        vertical-align: top;\n",
       "    }\n",
       "\n",
       "    .dataframe thead th {\n",
       "        text-align: right;\n",
       "    }\n",
       "</style>\n",
       "<table border=\"1\" class=\"dataframe\">\n",
       "  <thead>\n",
       "    <tr style=\"text-align: right;\">\n",
       "      <th></th>\n",
       "      <th>ParentRegion</th>\n",
       "      <th>Region</th>\n",
       "      <th>u_name</th>\n",
       "      <th>costPerWeek</th>\n",
       "      <th>jan</th>\n",
       "      <th>feb</th>\n",
       "      <th>mar</th>\n",
       "      <th>apr</th>\n",
       "      <th>may</th>\n",
       "      <th>jun</th>\n",
       "      <th>...</th>\n",
       "      <th>beach</th>\n",
       "      <th>watersports</th>\n",
       "      <th>entertainment</th>\n",
       "      <th>wintersports</th>\n",
       "      <th>culture</th>\n",
       "      <th>culinary</th>\n",
       "      <th>architecture</th>\n",
       "      <th>shopping</th>\n",
       "      <th>budgetLevel</th>\n",
       "      <th>visitorIndex</th>\n",
       "    </tr>\n",
       "  </thead>\n",
       "  <tbody>\n",
       "    <tr>\n",
       "      <th>0</th>\n",
       "      <td></td>\n",
       "      <td>World</td>\n",
       "      <td></td>\n",
       "      <td>400</td>\n",
       "      <td>o</td>\n",
       "      <td>o</td>\n",
       "      <td>o</td>\n",
       "      <td>o</td>\n",
       "      <td>o</td>\n",
       "      <td>o</td>\n",
       "      <td>...</td>\n",
       "      <td>o</td>\n",
       "      <td>o</td>\n",
       "      <td>o</td>\n",
       "      <td>o</td>\n",
       "      <td>o</td>\n",
       "      <td>o</td>\n",
       "      <td>o</td>\n",
       "      <td>o</td>\n",
       "      <td>NaN</td>\n",
       "      <td>{'jan': 0, 'feb': 0, 'mar': 0, 'apr': 0, 'may'...</td>\n",
       "    </tr>\n",
       "    <tr>\n",
       "      <th>1</th>\n",
       "      <td>World</td>\n",
       "      <td>Europe</td>\n",
       "      <td></td>\n",
       "      <td></td>\n",
       "      <td></td>\n",
       "      <td></td>\n",
       "      <td></td>\n",
       "      <td></td>\n",
       "      <td></td>\n",
       "      <td></td>\n",
       "      <td>...</td>\n",
       "      <td></td>\n",
       "      <td></td>\n",
       "      <td></td>\n",
       "      <td></td>\n",
       "      <td></td>\n",
       "      <td></td>\n",
       "      <td></td>\n",
       "      <td></td>\n",
       "      <td>NaN</td>\n",
       "      <td>{'jan': 0, 'feb': 0, 'mar': 0, 'apr': 0, 'may'...</td>\n",
       "    </tr>\n",
       "    <tr>\n",
       "      <th>2</th>\n",
       "      <td>World</td>\n",
       "      <td>North America</td>\n",
       "      <td></td>\n",
       "      <td></td>\n",
       "      <td></td>\n",
       "      <td></td>\n",
       "      <td></td>\n",
       "      <td></td>\n",
       "      <td></td>\n",
       "      <td></td>\n",
       "      <td>...</td>\n",
       "      <td></td>\n",
       "      <td></td>\n",
       "      <td></td>\n",
       "      <td></td>\n",
       "      <td></td>\n",
       "      <td></td>\n",
       "      <td></td>\n",
       "      <td></td>\n",
       "      <td>NaN</td>\n",
       "      <td>{'jan': 0, 'feb': 0, 'mar': 0, 'apr': 0, 'may'...</td>\n",
       "    </tr>\n",
       "    <tr>\n",
       "      <th>3</th>\n",
       "      <td>World</td>\n",
       "      <td>Middle America and Caribbean</td>\n",
       "      <td></td>\n",
       "      <td></td>\n",
       "      <td></td>\n",
       "      <td></td>\n",
       "      <td></td>\n",
       "      <td></td>\n",
       "      <td></td>\n",
       "      <td></td>\n",
       "      <td>...</td>\n",
       "      <td></td>\n",
       "      <td></td>\n",
       "      <td></td>\n",
       "      <td></td>\n",
       "      <td></td>\n",
       "      <td></td>\n",
       "      <td></td>\n",
       "      <td></td>\n",
       "      <td>NaN</td>\n",
       "      <td>{'jan': 0, 'feb': 0, 'mar': 0, 'apr': 0, 'may'...</td>\n",
       "    </tr>\n",
       "    <tr>\n",
       "      <th>4</th>\n",
       "      <td>World</td>\n",
       "      <td>South America</td>\n",
       "      <td></td>\n",
       "      <td></td>\n",
       "      <td></td>\n",
       "      <td></td>\n",
       "      <td></td>\n",
       "      <td></td>\n",
       "      <td></td>\n",
       "      <td></td>\n",
       "      <td>...</td>\n",
       "      <td></td>\n",
       "      <td></td>\n",
       "      <td></td>\n",
       "      <td></td>\n",
       "      <td></td>\n",
       "      <td></td>\n",
       "      <td></td>\n",
       "      <td></td>\n",
       "      <td>NaN</td>\n",
       "      <td>{'jan': 0, 'feb': 0, 'mar': 0, 'apr': 0, 'may'...</td>\n",
       "    </tr>\n",
       "  </tbody>\n",
       "</table>\n",
       "<p>5 rows × 29 columns</p>\n",
       "</div>"
      ],
      "text/plain": [
       "  ParentRegion                        Region u_name costPerWeek jan feb mar  \\\n",
       "0                                      World                400   o   o   o   \n",
       "1        World                        Europe                                  \n",
       "2        World                 North America                                  \n",
       "3        World  Middle America and Caribbean                                  \n",
       "4        World                 South America                                  \n",
       "\n",
       "  apr may jun  ... beach watersports entertainment wintersports culture  \\\n",
       "0   o   o   o  ...     o           o             o            o       o   \n",
       "1              ...                                                        \n",
       "2              ...                                                        \n",
       "3              ...                                                        \n",
       "4              ...                                                        \n",
       "\n",
       "  culinary architecture shopping budgetLevel  \\\n",
       "0        o            o        o         NaN   \n",
       "1                                        NaN   \n",
       "2                                        NaN   \n",
       "3                                        NaN   \n",
       "4                                        NaN   \n",
       "\n",
       "                                        visitorIndex  \n",
       "0  {'jan': 0, 'feb': 0, 'mar': 0, 'apr': 0, 'may'...  \n",
       "1  {'jan': 0, 'feb': 0, 'mar': 0, 'apr': 0, 'may'...  \n",
       "2  {'jan': 0, 'feb': 0, 'mar': 0, 'apr': 0, 'may'...  \n",
       "3  {'jan': 0, 'feb': 0, 'mar': 0, 'apr': 0, 'may'...  \n",
       "4  {'jan': 0, 'feb': 0, 'mar': 0, 'apr': 0, 'may'...  \n",
       "\n",
       "[5 rows x 29 columns]"
      ]
     },
     "execution_count": 7,
     "metadata": {},
     "output_type": "execute_result"
    }
   ],
   "source": [
    "travelRegions = pd.read_json('./travelRegionsWithIndex.json')\n",
    "\n",
    "travelRegions.head()"
   ]
  },
  {
   "cell_type": "code",
   "execution_count": 24,
   "metadata": {},
   "outputs": [
    {
     "data": {
      "text/plain": [
       "array([ 90.,  80., 111.,  90.,  83.,  98.,  84.,  82.,  82., 102.,  83.,\n",
       "        88.], dtype=float32)"
      ]
     },
     "execution_count": 24,
     "metadata": {},
     "output_type": "execute_result"
    }
   ],
   "source": [
    "np.array(list(travelRegions.iloc[30]['visitorIndex'].values()), dtype='f')"
   ]
  },
  {
   "cell_type": "markdown",
   "metadata": {},
   "source": [
    "## Use kmeans algorithmm to determine peak season"
   ]
  },
  {
   "cell_type": "code",
   "execution_count": 29,
   "metadata": {},
   "outputs": [
    {
     "data": {
      "text/plain": [
       "(array([0, 3, 2, 0, 3, 1, 3, 3, 3, 1, 3, 0], dtype=int32),\n",
       " array([ 89.333336, 100.      , 111.      ,  82.333336], dtype=float32))"
      ]
     },
     "execution_count": 29,
     "metadata": {},
     "output_type": "execute_result"
    }
   ],
   "source": [
    "travelRegionIndexes = np.array(list(travelRegions.iloc[30]['visitorIndex'].values()), dtype='f')\n",
    "centroids, _ = kmeans(travelRegionIndexes, 4)\n",
    "cluster_labels, _ = vq(travelRegionIndexes, centroids)\n",
    "cluster_labels, centroids"
   ]
  },
  {
   "cell_type": "code",
   "execution_count": 31,
   "metadata": {},
   "outputs": [
    {
     "data": {
      "text/plain": [
       "array([ 90.,  80., 111.,  90.,  83.,  98.,  84.,  82.,  82., 102.,  83.,\n",
       "        88.], dtype=float32)"
      ]
     },
     "execution_count": 31,
     "metadata": {},
     "output_type": "execute_result"
    }
   ],
   "source": [
    "travelRegionIndexes"
   ]
  },
  {
   "cell_type": "code",
   "execution_count": 64,
   "metadata": {},
   "outputs": [],
   "source": [
    "def applyKMeans(x, k=4):\n",
    "    travelRegionIndexes = np.array(list(x.values()), dtype='f')\n",
    "    centroids, _ = kmeans(travelRegionIndexes, k)\n",
    "    \n",
    "    sorted_indices = np.argsort(-centroids[:])\n",
    "    # print(sorted_indices, centroids)\n",
    "    sorted_centroids = centroids[sorted_indices]\n",
    "\n",
    "    cluster_labels, _ = vq(travelRegionIndexes, sorted_centroids)\n",
    "    is_one_cluster = np.all(np.array(cluster_labels) == 0)\n",
    "    arePeakSeason = {}\n",
    "    for idx, key in enumerate(x.keys()):\n",
    "        if is_one_cluster:\n",
    "            arePeakSeason[key] = False \n",
    "        else:\n",
    "            arePeakSeason[key] = cluster_labels[idx] == 0\n",
    "    return arePeakSeason"
   ]
  },
  {
   "cell_type": "code",
   "execution_count": 66,
   "metadata": {},
   "outputs": [
    {
     "data": {
      "text/plain": [
       "{'jan': False,\n",
       " 'feb': False,\n",
       " 'mar': False,\n",
       " 'apr': False,\n",
       " 'may': False,\n",
       " 'jun': False,\n",
       " 'jul': False,\n",
       " 'aug': False,\n",
       " 'sep': False,\n",
       " 'oct': False,\n",
       " 'nov': False,\n",
       " 'dec': False}"
      ]
     },
     "execution_count": 66,
     "metadata": {},
     "output_type": "execute_result"
    }
   ],
   "source": [
    "applyKMeans(travelRegions.iloc[0]['visitorIndex'])"
   ]
  },
  {
   "cell_type": "code",
   "execution_count": 62,
   "metadata": {},
   "outputs": [
    {
     "data": {
      "text/plain": [
       "False"
      ]
     },
     "execution_count": 62,
     "metadata": {},
     "output_type": "execute_result"
    }
   ],
   "source": [
    "# array([2, 3, 0, 2, 3, 1, 3, 3, 3, 1, 3, 2], dtype=int32)\n",
    "np.all(np.array([2, 3, 0, 2, 3, 1, 3, 3, 3, 1, 3, 2]) == 0)"
   ]
  },
  {
   "cell_type": "code",
   "execution_count": 68,
   "metadata": {},
   "outputs": [],
   "source": [
    "travelRegions['isPeakSeason'] = travelRegions['visitorIndex'].apply(applyKMeans)"
   ]
  },
  {
   "cell_type": "code",
   "execution_count": 70,
   "metadata": {},
   "outputs": [],
   "source": [
    "travelRegions.to_json('travelRegionsWithSeasons.json', orient='records', indent=2)"
   ]
  }
 ],
 "metadata": {
  "kernelspec": {
   "display_name": "base",
   "language": "python",
   "name": "python3"
  },
  "language_info": {
   "codemirror_mode": {
    "name": "ipython",
    "version": 3
   },
   "file_extension": ".py",
   "mimetype": "text/x-python",
   "name": "python",
   "nbconvert_exporter": "python",
   "pygments_lexer": "ipython3",
   "version": "3.11.6"
  }
 },
 "nbformat": 4,
 "nbformat_minor": 2
}
